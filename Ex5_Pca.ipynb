{
  "nbformat": 4,
  "nbformat_minor": 0,
  "metadata": {
    "colab": {
      "provenance": [],
      "gpuType": "T4"
    },
    "kernelspec": {
      "name": "python3",
      "display_name": "Python 3"
    },
    "language_info": {
      "name": "python"
    },
    "accelerator": "GPU"
  },
  "cells": [
    {
      "cell_type": "code",
      "execution_count": 1,
      "metadata": {
        "colab": {
          "base_uri": "https://localhost:8080/"
        },
        "id": "zEUYAf0MGxOh",
        "outputId": "809a27d5-d9ff-4d1c-c228-f1098daaec01"
      },
      "outputs": [
        {
          "output_type": "stream",
          "name": "stdout",
          "text": [
            "Collecting git+https://github.com/andreinechaev/nvcc4jupyter.git\n",
            "  Cloning https://github.com/andreinechaev/nvcc4jupyter.git to /tmp/pip-req-build-suc232cc\n",
            "  Running command git clone --filter=blob:none --quiet https://github.com/andreinechaev/nvcc4jupyter.git /tmp/pip-req-build-suc232cc\n",
            "  Resolved https://github.com/andreinechaev/nvcc4jupyter.git to commit 326b0a57a80c6d0b4bad25ca7adf8138419ef1cb\n",
            "  Installing build dependencies ... \u001b[?25l\u001b[?25hdone\n",
            "  Getting requirements to build wheel ... \u001b[?25l\u001b[?25hdone\n",
            "  Preparing metadata (pyproject.toml) ... \u001b[?25l\u001b[?25hdone\n",
            "Building wheels for collected packages: nvcc4jupyter\n",
            "  Building wheel for nvcc4jupyter (pyproject.toml) ... \u001b[?25l\u001b[?25hdone\n",
            "  Created wheel for nvcc4jupyter: filename=nvcc4jupyter-1.2.1-py3-none-any.whl size=10741 sha256=1c43b610d84440f376c57bb0b3d20f87e2433fdb6f06eb98d5fd7c81c461a971\n",
            "  Stored in directory: /tmp/pip-ephem-wheel-cache-oot97w_h/wheels/a8/b9/18/23f8ef71ceb0f63297dd1903aedd067e6243a68ea756d6feea\n",
            "Successfully built nvcc4jupyter\n",
            "Installing collected packages: nvcc4jupyter\n",
            "Successfully installed nvcc4jupyter-1.2.1\n",
            "Detected platform \"Colab\". Running its setup...\n",
            "Source files will be saved in \"/tmp/tmpo7gn1sl6\".\n"
          ]
        }
      ],
      "source": [
        "!pip install git+https://github.com/andreinechaev/nvcc4jupyter.git\n",
        "%load_ext nvcc4jupyter"
      ]
    },
    {
      "cell_type": "code",
      "source": [
        "%%writefile matmul.cu\n",
        "#include <stdio.h>\n",
        "#include <cuda_runtime.h>\n",
        "#include <cuda.h>\n",
        "#include <sys/time.h>\n",
        "\n",
        "#ifndef _COMMON_H\n",
        "#define _COMMON_H\n",
        "\n",
        "#define CHECK(call)                                                            \\\n",
        "{                                                                              \\\n",
        "    const cudaError_t error = call;                                            \\\n",
        "    if (error != cudaSuccess)                                                  \\\n",
        "    {                                                                          \\\n",
        "        fprintf(stderr, \"Error: %s:%d, \", __FILE__, __LINE__);                 \\\n",
        "        fprintf(stderr, \"code: %d, reason: %s\\n\", error,                       \\\n",
        "                cudaGetErrorString(error));                                    \\\n",
        "        exit(1);                                                               \\\n",
        "    }                                                                          \\\n",
        "}\n",
        "\n",
        "#define CHECK_CUBLAS(call)                                                     \\\n",
        "{                                                                              \\\n",
        "    cublasStatus_t err;                                                        \\\n",
        "    if ((err = (call)) != CUBLAS_STATUS_SUCCESS)                               \\\n",
        "    {                                                                          \\\n",
        "        fprintf(stderr, \"Got CUBLAS error %d at %s:%d\\n\", err, __FILE__,       \\\n",
        "                __LINE__);                                                     \\\n",
        "        exit(1);                                                               \\\n",
        "    }                                                                          \\\n",
        "}\n",
        "\n",
        "#define CHECK_CURAND(call)                                                     \\\n",
        "{                                                                              \\\n",
        "    curandStatus_t err;                                                        \\\n",
        "    if ((err = (call)) != CURAND_STATUS_SUCCESS)                               \\\n",
        "    {                                                                          \\\n",
        "        fprintf(stderr, \"Got CURAND error %d at %s:%d\\n\", err, __FILE__,       \\\n",
        "                __LINE__);                                                     \\\n",
        "        exit(1);                                                               \\\n",
        "    }                                                                          \\\n",
        "}\n",
        "\n",
        "#define CHECK_CUFFT(call)                                                      \\\n",
        "{                                                                              \\\n",
        "    cufftResult err;                                                           \\\n",
        "    if ( (err = (call)) != CUFFT_SUCCESS)                                      \\\n",
        "    {                                                                          \\\n",
        "        fprintf(stderr, \"Got CUFFT error %d at %s:%d\\n\", err, __FILE__,        \\\n",
        "                __LINE__);                                                     \\\n",
        "        exit(1);                                                               \\\n",
        "    }                                                                          \\\n",
        "}\n",
        "\n",
        "#define CHECK_CUSPARSE(call)                                                   \\\n",
        "{                                                                              \\\n",
        "    cusparseStatus_t err;                                                      \\\n",
        "    if ((err = (call)) != CUSPARSE_STATUS_SUCCESS)                             \\\n",
        "    {                                                                          \\\n",
        "        fprintf(stderr, \"Got error %d at %s:%d\\n\", err, __FILE__, __LINE__);   \\\n",
        "        cudaError_t cuda_err = cudaGetLastError();                             \\\n",
        "        if (cuda_err != cudaSuccess)                                           \\\n",
        "        {                                                                      \\\n",
        "            fprintf(stderr, \"  CUDA error \\\"%s\\\" also detected\\n\",             \\\n",
        "                    cudaGetErrorString(cuda_err));                             \\\n",
        "        }                                                                      \\\n",
        "        exit(1);                                                               \\\n",
        "    }                                                                          \\\n",
        "}\n",
        "\n",
        "inline double seconds()\n",
        "{\n",
        "    struct timeval tp;\n",
        "    struct timezone tzp;\n",
        "    int i = gettimeofday(&tp, &tzp);\n",
        "    return ((double)tp.tv_sec + (double)tp.tv_usec * 1.e-6);\n",
        "}\n",
        "\n",
        "#endif // _COMMON_H\n",
        "#define SIZE 4\n",
        "#define BLOCK_SIZE 2\n",
        "\n",
        "// Kernel function to perform matrix multiplication\n",
        "__global__ void matrixMultiply(int *a, int *b, int *c, int size)\n",
        "{\n",
        "    int row = blockIdx.y * blockDim.y + threadIdx.y;\n",
        "    int col = blockIdx.x * blockDim.x + threadIdx.x;\n",
        "\n",
        "    int sum = 0;\n",
        "    for (int k = 0; k < size; ++k)\n",
        "    {\n",
        "        sum += a[row * size + k] * b[k * size + col];\n",
        "    }\n",
        "    c[row * size + col] = sum;\n",
        "}\n",
        "int main()\n",
        "{\n",
        "    int a[SIZE][SIZE], b[SIZE][SIZE], c[SIZE][SIZE];\n",
        "    int *dev_a, *dev_b, *dev_c;\n",
        "    int size = SIZE * SIZE * sizeof(int);\n",
        "\n",
        "    // Initialize matrices 'a' and 'b'\n",
        "    for (int i = 0; i < SIZE; ++i)\n",
        "    {\n",
        "        for (int j = 0; j < SIZE; ++j)\n",
        "        {\n",
        "            a[i][j] = i + j;\n",
        "            b[i][j] = i - j;\n",
        "        }\n",
        "    }\n",
        "\n",
        "    // Allocate memory on the device\n",
        "    cudaMalloc((void**)&dev_a, size);\n",
        "    cudaMalloc((void**)&dev_b, size);\n",
        "    cudaMalloc((void**)&dev_c, size);\n",
        "\n",
        "    // Copy input matrices from host to device memory\n",
        "    cudaMemcpy(dev_a, a, size, cudaMemcpyHostToDevice);\n",
        "    cudaMemcpy(dev_b, b, size, cudaMemcpyHostToDevice);\n",
        "\n",
        "    // Set grid and block sizes\n",
        "    dim3 dimGrid(SIZE / BLOCK_SIZE, SIZE / BLOCK_SIZE);\n",
        "    dim3 dimBlock(BLOCK_SIZE, BLOCK_SIZE);\n",
        "\n",
        "    // Start timer\n",
        "    struct timeval start, end;\n",
        "    gettimeofday(&start, NULL);\n",
        "\n",
        "    // Launch kernel\n",
        "    matrixMultiply<<<dimGrid, dimBlock>>>(dev_a, dev_b, dev_c, SIZE);\n",
        "\n",
        "    // Copy result matrix from device to host memory\n",
        "    cudaMemcpy(c, dev_c, size, cudaMemcpyDeviceToHost);\n",
        "\n",
        "    // Stop timer\n",
        "    gettimeofday(&end, NULL);\n",
        "    double elapsed_time = (end.tv_sec - start.tv_sec) + (end.tv_usec - start.tv_usec) / 1000000.0;\n",
        "\n",
        "// Print the result matrix\n",
        "    printf(\"Result Matrix:\\n\");\n",
        "    for (int i = 0; i < SIZE; ++i)\n",
        "    {\n",
        "        for (int j = 0; j < SIZE; ++j)\n",
        "        {\n",
        "            printf(\"%d \", c[i][j]);\n",
        "        }\n",
        "        printf(\"\\n\");\n",
        "    }\n",
        "\n",
        "    // Print the elapsed time\n",
        "    printf(\"Elapsed Time: %.6f seconds\\n\", elapsed_time);\n",
        "\n",
        "    // Free device memory\n",
        "    cudaFree(dev_a);\n",
        "    cudaFree(dev_b);\n",
        "    cudaFree(dev_c);\n",
        "\n",
        "    return 0;\n",
        "}\n",
        "\n"
      ],
      "metadata": {
        "colab": {
          "base_uri": "https://localhost:8080/"
        },
        "id": "aHCytJYEG_mM",
        "outputId": "dcd9ffde-3752-4e95-af2b-2afcde61fcfa"
      },
      "execution_count": 2,
      "outputs": [
        {
          "output_type": "stream",
          "name": "stdout",
          "text": [
            "Writing matmul.cu\n"
          ]
        }
      ]
    },
    {
      "cell_type": "code",
      "source": [
        "!nvcc -o matmul matmul.cu"
      ],
      "metadata": {
        "id": "uIV0zry7HEw-"
      },
      "execution_count": 3,
      "outputs": []
    },
    {
      "cell_type": "code",
      "source": [
        "!./matmul"
      ],
      "metadata": {
        "colab": {
          "base_uri": "https://localhost:8080/"
        },
        "id": "kRvi2AaLHHvn",
        "outputId": "5fe03d77-dce9-40ef-cfae-4d7177ce71dc"
      },
      "execution_count": 4,
      "outputs": [
        {
          "output_type": "stream",
          "name": "stdout",
          "text": [
            "Result Matrix:\n",
            "14 8 2 -4 \n",
            "20 10 0 -10 \n",
            "26 12 -2 -16 \n",
            "32 14 -4 -22 \n",
            "Elapsed Time: 0.113372 seconds\n"
          ]
        }
      ]
    },
    {
      "cell_type": "code",
      "source": [
        "!nvprof ./matmul"
      ],
      "metadata": {
        "colab": {
          "base_uri": "https://localhost:8080/"
        },
        "id": "Ko0b7GpuHKus",
        "outputId": "5de61326-d454-46cb-8c7c-66fafb90eaf1"
      },
      "execution_count": 5,
      "outputs": [
        {
          "output_type": "stream",
          "name": "stdout",
          "text": [
            "==891== NVPROF is profiling process 891, command: ./matmul\n",
            "Result Matrix:\n",
            "14 8 2 -4 \n",
            "20 10 0 -10 \n",
            "26 12 -2 -16 \n",
            "32 14 -4 -22 \n",
            "Elapsed Time: 0.000236 seconds\n",
            "==891== Profiling application: ./matmul\n",
            "==891== Profiling result:\n",
            "            Type  Time(%)      Time     Calls       Avg       Min       Max  Name\n",
            " GPU activities:   48.14%  3.7120us         1  3.7120us  3.7120us  3.7120us  matrixMultiply(int*, int*, int*, int)\n",
            "                   27.38%  2.1110us         1  2.1110us  2.1110us  2.1110us  [CUDA memcpy DtoH]\n",
            "                   24.48%  1.8880us         2     944ns     672ns  1.2160us  [CUDA memcpy HtoD]\n",
            "      API calls:   99.40%  89.318ms         3  29.773ms  4.5150us  89.307ms  cudaMalloc\n",
            "                    0.24%  212.50us         1  212.50us  212.50us  212.50us  cudaLaunchKernel\n",
            "                    0.16%  143.37us       114  1.2570us     138ns  52.745us  cuDeviceGetAttribute\n",
            "                    0.13%  114.85us         3  38.282us  5.0490us  99.865us  cudaFree\n",
            "                    0.05%  46.711us         3  15.570us  6.8530us  20.793us  cudaMemcpy\n",
            "                    0.01%  10.952us         1  10.952us  10.952us  10.952us  cuDeviceGetName\n",
            "                    0.01%  5.7100us         1  5.7100us  5.7100us  5.7100us  cuDeviceGetPCIBusId\n",
            "                    0.00%  4.4480us         1  4.4480us  4.4480us  4.4480us  cuDeviceTotalMem\n",
            "                    0.00%  2.8780us         3     959ns     216ns  1.9780us  cuDeviceGetCount\n",
            "                    0.00%  1.0980us         2     549ns     235ns     863ns  cuDeviceGet\n",
            "                    0.00%     458ns         1     458ns     458ns     458ns  cuModuleGetLoadingMode\n",
            "                    0.00%     238ns         1     238ns     238ns     238ns  cuDeviceGetUuid\n"
          ]
        }
      ]
    },
    {
      "cell_type": "code",
      "source": [
        "!nvprof --print-gpu-trace ./matmul"
      ],
      "metadata": {
        "colab": {
          "base_uri": "https://localhost:8080/"
        },
        "id": "POo_RcVEHNQW",
        "outputId": "d8717f81-1c75-4319-b4fe-b3400de707be"
      },
      "execution_count": 6,
      "outputs": [
        {
          "output_type": "stream",
          "name": "stdout",
          "text": [
            "==924== NVPROF is profiling process 924, command: ./matmul\n",
            "Result Matrix:\n",
            "14 8 2 -4 \n",
            "20 10 0 -10 \n",
            "26 12 -2 -16 \n",
            "32 14 -4 -22 \n",
            "Elapsed Time: 0.000308 seconds\n",
            "==924== Profiling application: ./matmul\n",
            "==924== Profiling result:\n",
            "   Start  Duration            Grid Size      Block Size     Regs*    SSMem*    DSMem*      Size  Throughput  SrcMemType  DstMemType           Device   Context    Stream  Name\n",
            "168.37ms  1.1840us                    -               -         -         -         -       64B  51.550MB/s    Pageable      Device     Tesla T4 (0)         1         7  [CUDA memcpy HtoD]\n",
            "168.38ms     672ns                    -               -         -         -         -       64B  90.826MB/s    Pageable      Device     Tesla T4 (0)         1         7  [CUDA memcpy HtoD]\n",
            "168.66ms  3.7120us              (2 2 1)         (2 2 1)        49        0B        0B         -           -           -           -     Tesla T4 (0)         1         7  matrixMultiply(int*, int*, int*, int) [130]\n",
            "168.67ms  2.0800us                    -               -         -         -         -       64B  29.344MB/s      Device    Pageable     Tesla T4 (0)         1         7  [CUDA memcpy DtoH]\n",
            "\n",
            "Regs: Number of registers used per CUDA thread. This number includes registers used internally by the CUDA driver and/or tools and can be more than what the compiler shows.\n",
            "SSMem: Static shared memory allocated per CUDA block.\n",
            "DSMem: Dynamic shared memory allocated per CUDA block.\n",
            "SrcMemType: The type of source memory accessed by memory operation/copy\n",
            "DstMemType: The type of destination memory accessed by memory operation/copy\n"
          ]
        }
      ]
    }
  ]
}